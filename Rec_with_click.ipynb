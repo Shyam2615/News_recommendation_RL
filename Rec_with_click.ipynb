{
 "cells": [
  {
   "cell_type": "code",
   "execution_count": 1,
   "id": "010c7dd5-5acf-486b-ae07-c842626e05d6",
   "metadata": {},
   "outputs": [
    {
     "data": {
      "text/plain": [
       "['Requirement already satisfied: gradio in d:\\\\anaconda\\\\envs\\\\drqn-env\\\\lib\\\\site-packages (4.44.1)',\n",
       " 'Requirement already satisfied: tensorflow in d:\\\\anaconda\\\\envs\\\\drqn-env\\\\lib\\\\site-packages (2.10.1)',\n",
       " 'Requirement already satisfied: numpy in d:\\\\anaconda\\\\envs\\\\drqn-env\\\\lib\\\\site-packages (1.23.5)',\n",
       " 'Requirement already satisfied: pandas in d:\\\\anaconda\\\\envs\\\\drqn-env\\\\lib\\\\site-packages (2.2.3)',\n",
       " 'Requirement already satisfied: aiofiles<24.0,>=22.0 in d:\\\\anaconda\\\\envs\\\\drqn-env\\\\lib\\\\site-packages (from gradio) (23.2.1)',\n",
       " 'Requirement already satisfied: anyio<5.0,>=3.0 in d:\\\\anaconda\\\\envs\\\\drqn-env\\\\lib\\\\site-packages (from gradio) (4.6.2)',\n",
       " 'Requirement already satisfied: fastapi<1.0 in d:\\\\anaconda\\\\envs\\\\drqn-env\\\\lib\\\\site-packages (from gradio) (0.115.12)',\n",
       " 'Requirement already satisfied: ffmpy in d:\\\\anaconda\\\\envs\\\\drqn-env\\\\lib\\\\site-packages (from gradio) (0.5.0)',\n",
       " 'Requirement already satisfied: gradio-client==1.3.0 in d:\\\\anaconda\\\\envs\\\\drqn-env\\\\lib\\\\site-packages (from gradio) (1.3.0)',\n",
       " 'Requirement already satisfied: httpx>=0.24.1 in d:\\\\anaconda\\\\envs\\\\drqn-env\\\\lib\\\\site-packages (from gradio) (0.27.0)',\n",
       " 'Requirement already satisfied: huggingface-hub>=0.19.3 in d:\\\\anaconda\\\\envs\\\\drqn-env\\\\lib\\\\site-packages (from gradio) (0.29.3)',\n",
       " 'Requirement already satisfied: importlib-resources<7.0,>=1.3 in d:\\\\anaconda\\\\envs\\\\drqn-env\\\\lib\\\\site-packages (from gradio) (6.5.2)',\n",
       " 'Requirement already satisfied: jinja2<4.0 in d:\\\\anaconda\\\\envs\\\\drqn-env\\\\lib\\\\site-packages (from gradio) (3.1.6)',\n",
       " 'Requirement already satisfied: markupsafe~=2.0 in d:\\\\anaconda\\\\envs\\\\drqn-env\\\\lib\\\\site-packages (from gradio) (2.1.5)',\n",
       " 'Requirement already satisfied: matplotlib~=3.0 in d:\\\\anaconda\\\\envs\\\\drqn-env\\\\lib\\\\site-packages (from gradio) (3.9.4)',\n",
       " 'Requirement already satisfied: orjson~=3.0 in d:\\\\anaconda\\\\envs\\\\drqn-env\\\\lib\\\\site-packages (from gradio) (3.10.16)',\n",
       " 'Requirement already satisfied: packaging in d:\\\\anaconda\\\\envs\\\\drqn-env\\\\lib\\\\site-packages (from gradio) (24.2)',\n",
       " 'Requirement already satisfied: pillow<11.0,>=8.0 in d:\\\\anaconda\\\\envs\\\\drqn-env\\\\lib\\\\site-packages (from gradio) (10.4.0)',\n",
       " 'Requirement already satisfied: pydantic>=2.0 in d:\\\\anaconda\\\\envs\\\\drqn-env\\\\lib\\\\site-packages (from gradio) (2.10.6)',\n",
       " 'Requirement already satisfied: pydub in d:\\\\anaconda\\\\envs\\\\drqn-env\\\\lib\\\\site-packages (from gradio) (0.25.1)',\n",
       " 'Requirement already satisfied: python-multipart>=0.0.9 in d:\\\\anaconda\\\\envs\\\\drqn-env\\\\lib\\\\site-packages (from gradio) (0.0.20)',\n",
       " 'Requirement already satisfied: pyyaml<7.0,>=5.0 in d:\\\\anaconda\\\\envs\\\\drqn-env\\\\lib\\\\site-packages (from gradio) (6.0.2)',\n",
       " 'Requirement already satisfied: ruff>=0.2.2 in d:\\\\anaconda\\\\envs\\\\drqn-env\\\\lib\\\\site-packages (from gradio) (0.11.2)',\n",
       " 'Requirement already satisfied: semantic-version~=2.0 in d:\\\\anaconda\\\\envs\\\\drqn-env\\\\lib\\\\site-packages (from gradio) (2.10.0)',\n",
       " 'Requirement already satisfied: tomlkit==0.12.0 in d:\\\\anaconda\\\\envs\\\\drqn-env\\\\lib\\\\site-packages (from gradio) (0.12.0)',\n",
       " 'Requirement already satisfied: typer<1.0,>=0.12 in d:\\\\anaconda\\\\envs\\\\drqn-env\\\\lib\\\\site-packages (from gradio) (0.15.2)',\n",
       " 'Requirement already satisfied: typing-extensions~=4.0 in d:\\\\anaconda\\\\envs\\\\drqn-env\\\\lib\\\\site-packages (from gradio) (4.12.2)',\n",
       " 'Requirement already satisfied: urllib3~=2.0 in d:\\\\anaconda\\\\envs\\\\drqn-env\\\\lib\\\\site-packages (from gradio) (2.3.0)',\n",
       " 'Requirement already satisfied: uvicorn>=0.14.0 in d:\\\\anaconda\\\\envs\\\\drqn-env\\\\lib\\\\site-packages (from gradio) (0.34.0)',\n",
       " 'Requirement already satisfied: fsspec in d:\\\\anaconda\\\\envs\\\\drqn-env\\\\lib\\\\site-packages (from gradio-client==1.3.0->gradio) (2025.3.0)',\n",
       " 'Requirement already satisfied: websockets<13.0,>=10.0 in d:\\\\anaconda\\\\envs\\\\drqn-env\\\\lib\\\\site-packages (from gradio-client==1.3.0->gradio) (12.0)',\n",
       " 'Requirement already satisfied: absl-py>=1.0.0 in d:\\\\anaconda\\\\envs\\\\drqn-env\\\\lib\\\\site-packages (from tensorflow) (2.2.0)',\n",
       " 'Requirement already satisfied: astunparse>=1.6.0 in d:\\\\anaconda\\\\envs\\\\drqn-env\\\\lib\\\\site-packages (from tensorflow) (1.6.3)',\n",
       " 'Requirement already satisfied: flatbuffers>=2.0 in d:\\\\anaconda\\\\envs\\\\drqn-env\\\\lib\\\\site-packages (from tensorflow) (25.2.10)',\n",
       " 'Requirement already satisfied: gast<=0.4.0,>=0.2.1 in d:\\\\anaconda\\\\envs\\\\drqn-env\\\\lib\\\\site-packages (from tensorflow) (0.4.0)',\n",
       " 'Requirement already satisfied: google-pasta>=0.1.1 in d:\\\\anaconda\\\\envs\\\\drqn-env\\\\lib\\\\site-packages (from tensorflow) (0.2.0)',\n",
       " 'Requirement already satisfied: h5py>=2.9.0 in d:\\\\anaconda\\\\envs\\\\drqn-env\\\\lib\\\\site-packages (from tensorflow) (3.13.0)',\n",
       " 'Requirement already satisfied: keras-preprocessing>=1.1.1 in d:\\\\anaconda\\\\envs\\\\drqn-env\\\\lib\\\\site-packages (from tensorflow) (1.1.2)',\n",
       " 'Requirement already satisfied: libclang>=13.0.0 in d:\\\\anaconda\\\\envs\\\\drqn-env\\\\lib\\\\site-packages (from tensorflow) (18.1.1)',\n",
       " 'Requirement already satisfied: opt-einsum>=2.3.2 in d:\\\\anaconda\\\\envs\\\\drqn-env\\\\lib\\\\site-packages (from tensorflow) (3.4.0)',\n",
       " 'Requirement already satisfied: protobuf<3.20,>=3.9.2 in d:\\\\anaconda\\\\envs\\\\drqn-env\\\\lib\\\\site-packages (from tensorflow) (3.19.6)',\n",
       " 'Requirement already satisfied: setuptools in d:\\\\anaconda\\\\envs\\\\drqn-env\\\\lib\\\\site-packages (from tensorflow) (75.8.0)',\n",
       " 'Requirement already satisfied: six>=1.12.0 in d:\\\\anaconda\\\\envs\\\\drqn-env\\\\lib\\\\site-packages (from tensorflow) (1.16.0)',\n",
       " 'Requirement already satisfied: termcolor>=1.1.0 in d:\\\\anaconda\\\\envs\\\\drqn-env\\\\lib\\\\site-packages (from tensorflow) (2.5.0)',\n",
       " 'Requirement already satisfied: wrapt>=1.11.0 in d:\\\\anaconda\\\\envs\\\\drqn-env\\\\lib\\\\site-packages (from tensorflow) (1.14.1)',\n",
       " 'Requirement already satisfied: tensorflow-io-gcs-filesystem>=0.23.1 in d:\\\\anaconda\\\\envs\\\\drqn-env\\\\lib\\\\site-packages (from tensorflow) (0.31.0)',\n",
       " 'Requirement already satisfied: grpcio<2.0,>=1.24.3 in d:\\\\anaconda\\\\envs\\\\drqn-env\\\\lib\\\\site-packages (from tensorflow) (1.71.0)',\n",
       " 'Requirement already satisfied: tensorboard<2.11,>=2.10 in d:\\\\anaconda\\\\envs\\\\drqn-env\\\\lib\\\\site-packages (from tensorflow) (2.10.1)',\n",
       " 'Requirement already satisfied: tensorflow-estimator<2.11,>=2.10.0 in d:\\\\anaconda\\\\envs\\\\drqn-env\\\\lib\\\\site-packages (from tensorflow) (2.10.0)',\n",
       " 'Requirement already satisfied: keras<2.11,>=2.10.0 in d:\\\\anaconda\\\\envs\\\\drqn-env\\\\lib\\\\site-packages (from tensorflow) (2.10.0)',\n",
       " 'Requirement already satisfied: python-dateutil>=2.8.2 in d:\\\\anaconda\\\\envs\\\\drqn-env\\\\lib\\\\site-packages (from pandas) (2.9.0.post0)',\n",
       " 'Requirement already satisfied: pytz>=2020.1 in d:\\\\anaconda\\\\envs\\\\drqn-env\\\\lib\\\\site-packages (from pandas) (2025.2)',\n",
       " 'Requirement already satisfied: tzdata>=2022.7 in d:\\\\anaconda\\\\envs\\\\drqn-env\\\\lib\\\\site-packages (from pandas) (2025.2)',\n",
       " 'Requirement already satisfied: idna>=2.8 in d:\\\\anaconda\\\\envs\\\\drqn-env\\\\lib\\\\site-packages (from anyio<5.0,>=3.0->gradio) (3.10)',\n",
       " 'Requirement already satisfied: sniffio>=1.1 in d:\\\\anaconda\\\\envs\\\\drqn-env\\\\lib\\\\site-packages (from anyio<5.0,>=3.0->gradio) (1.3.0)',\n",
       " 'Requirement already satisfied: exceptiongroup>=1.0.2 in d:\\\\anaconda\\\\envs\\\\drqn-env\\\\lib\\\\site-packages (from anyio<5.0,>=3.0->gradio) (1.2.0)',\n",
       " 'Requirement already satisfied: wheel<1.0,>=0.23.0 in d:\\\\anaconda\\\\envs\\\\drqn-env\\\\lib\\\\site-packages (from astunparse>=1.6.0->tensorflow) (0.45.1)',\n",
       " 'Requirement already satisfied: starlette<0.47.0,>=0.40.0 in d:\\\\anaconda\\\\envs\\\\drqn-env\\\\lib\\\\site-packages (from fastapi<1.0->gradio) (0.46.1)',\n",
       " 'Requirement already satisfied: certifi in d:\\\\anaconda\\\\envs\\\\drqn-env\\\\lib\\\\site-packages (from httpx>=0.24.1->gradio) (2025.1.31)',\n",
       " 'Requirement already satisfied: httpcore==1.* in d:\\\\anaconda\\\\envs\\\\drqn-env\\\\lib\\\\site-packages (from httpx>=0.24.1->gradio) (1.0.2)',\n",
       " 'Requirement already satisfied: h11<0.15,>=0.13 in d:\\\\anaconda\\\\envs\\\\drqn-env\\\\lib\\\\site-packages (from httpcore==1.*->httpx>=0.24.1->gradio) (0.14.0)',\n",
       " 'Requirement already satisfied: filelock in d:\\\\anaconda\\\\envs\\\\drqn-env\\\\lib\\\\site-packages (from huggingface-hub>=0.19.3->gradio) (3.18.0)',\n",
       " 'Requirement already satisfied: requests in d:\\\\anaconda\\\\envs\\\\drqn-env\\\\lib\\\\site-packages (from huggingface-hub>=0.19.3->gradio) (2.32.3)',\n",
       " 'Requirement already satisfied: tqdm>=4.42.1 in d:\\\\anaconda\\\\envs\\\\drqn-env\\\\lib\\\\site-packages (from huggingface-hub>=0.19.3->gradio) (4.67.1)',\n",
       " 'Requirement already satisfied: zipp>=3.1.0 in d:\\\\anaconda\\\\envs\\\\drqn-env\\\\lib\\\\site-packages (from importlib-resources<7.0,>=1.3->gradio) (3.21.0)',\n",
       " 'Requirement already satisfied: contourpy>=1.0.1 in d:\\\\anaconda\\\\envs\\\\drqn-env\\\\lib\\\\site-packages (from matplotlib~=3.0->gradio) (1.3.0)',\n",
       " 'Requirement already satisfied: cycler>=0.10 in d:\\\\anaconda\\\\envs\\\\drqn-env\\\\lib\\\\site-packages (from matplotlib~=3.0->gradio) (0.12.1)',\n",
       " 'Requirement already satisfied: fonttools>=4.22.0 in d:\\\\anaconda\\\\envs\\\\drqn-env\\\\lib\\\\site-packages (from matplotlib~=3.0->gradio) (4.56.0)',\n",
       " 'Requirement already satisfied: kiwisolver>=1.3.1 in d:\\\\anaconda\\\\envs\\\\drqn-env\\\\lib\\\\site-packages (from matplotlib~=3.0->gradio) (1.4.7)',\n",
       " 'Requirement already satisfied: pyparsing>=2.3.1 in d:\\\\anaconda\\\\envs\\\\drqn-env\\\\lib\\\\site-packages (from matplotlib~=3.0->gradio) (3.2.3)',\n",
       " 'Requirement already satisfied: annotated-types>=0.6.0 in d:\\\\anaconda\\\\envs\\\\drqn-env\\\\lib\\\\site-packages (from pydantic>=2.0->gradio) (0.7.0)',\n",
       " 'Requirement already satisfied: pydantic-core==2.27.2 in d:\\\\anaconda\\\\envs\\\\drqn-env\\\\lib\\\\site-packages (from pydantic>=2.0->gradio) (2.27.2)',\n",
       " 'Requirement already satisfied: google-auth<3,>=1.6.3 in d:\\\\anaconda\\\\envs\\\\drqn-env\\\\lib\\\\site-packages (from tensorboard<2.11,>=2.10->tensorflow) (2.38.0)',\n",
       " 'Requirement already satisfied: google-auth-oauthlib<0.5,>=0.4.1 in d:\\\\anaconda\\\\envs\\\\drqn-env\\\\lib\\\\site-packages (from tensorboard<2.11,>=2.10->tensorflow) (0.4.6)',\n",
       " 'Requirement already satisfied: markdown>=2.6.8 in d:\\\\anaconda\\\\envs\\\\drqn-env\\\\lib\\\\site-packages (from tensorboard<2.11,>=2.10->tensorflow) (3.7)',\n",
       " 'Requirement already satisfied: tensorboard-data-server<0.7.0,>=0.6.0 in d:\\\\anaconda\\\\envs\\\\drqn-env\\\\lib\\\\site-packages (from tensorboard<2.11,>=2.10->tensorflow) (0.6.1)',\n",
       " 'Requirement already satisfied: tensorboard-plugin-wit>=1.6.0 in d:\\\\anaconda\\\\envs\\\\drqn-env\\\\lib\\\\site-packages (from tensorboard<2.11,>=2.10->tensorflow) (1.8.1)',\n",
       " 'Requirement already satisfied: werkzeug>=1.0.1 in d:\\\\anaconda\\\\envs\\\\drqn-env\\\\lib\\\\site-packages (from tensorboard<2.11,>=2.10->tensorflow) (3.1.3)',\n",
       " 'Requirement already satisfied: click>=8.0.0 in d:\\\\anaconda\\\\envs\\\\drqn-env\\\\lib\\\\site-packages (from typer<1.0,>=0.12->gradio) (8.1.8)',\n",
       " 'Requirement already satisfied: shellingham>=1.3.0 in d:\\\\anaconda\\\\envs\\\\drqn-env\\\\lib\\\\site-packages (from typer<1.0,>=0.12->gradio) (1.5.4)',\n",
       " 'Requirement already satisfied: rich>=10.11.0 in d:\\\\anaconda\\\\envs\\\\drqn-env\\\\lib\\\\site-packages (from typer<1.0,>=0.12->gradio) (13.9.4)',\n",
       " 'Requirement already satisfied: colorama in d:\\\\anaconda\\\\envs\\\\drqn-env\\\\lib\\\\site-packages (from click>=8.0.0->typer<1.0,>=0.12->gradio) (0.4.6)',\n",
       " 'Requirement already satisfied: cachetools<6.0,>=2.0.0 in d:\\\\anaconda\\\\envs\\\\drqn-env\\\\lib\\\\site-packages (from google-auth<3,>=1.6.3->tensorboard<2.11,>=2.10->tensorflow) (5.5.2)',\n",
       " 'Requirement already satisfied: pyasn1-modules>=0.2.1 in d:\\\\anaconda\\\\envs\\\\drqn-env\\\\lib\\\\site-packages (from google-auth<3,>=1.6.3->tensorboard<2.11,>=2.10->tensorflow) (0.4.1)',\n",
       " 'Requirement already satisfied: rsa<5,>=3.1.4 in d:\\\\anaconda\\\\envs\\\\drqn-env\\\\lib\\\\site-packages (from google-auth<3,>=1.6.3->tensorboard<2.11,>=2.10->tensorflow) (4.9)',\n",
       " 'Requirement already satisfied: requests-oauthlib>=0.7.0 in d:\\\\anaconda\\\\envs\\\\drqn-env\\\\lib\\\\site-packages (from google-auth-oauthlib<0.5,>=0.4.1->tensorboard<2.11,>=2.10->tensorflow) (2.0.0)',\n",
       " 'Requirement already satisfied: importlib-metadata>=4.4 in d:\\\\anaconda\\\\envs\\\\drqn-env\\\\lib\\\\site-packages (from markdown>=2.6.8->tensorboard<2.11,>=2.10->tensorflow) (8.5.0)',\n",
       " 'Requirement already satisfied: charset-normalizer<4,>=2 in d:\\\\anaconda\\\\envs\\\\drqn-env\\\\lib\\\\site-packages (from requests->huggingface-hub>=0.19.3->gradio) (3.3.2)',\n",
       " 'Requirement already satisfied: markdown-it-py>=2.2.0 in d:\\\\anaconda\\\\envs\\\\drqn-env\\\\lib\\\\site-packages (from rich>=10.11.0->typer<1.0,>=0.12->gradio) (3.0.0)',\n",
       " 'Requirement already satisfied: pygments<3.0.0,>=2.13.0 in d:\\\\anaconda\\\\envs\\\\drqn-env\\\\lib\\\\site-packages (from rich>=10.11.0->typer<1.0,>=0.12->gradio) (2.15.1)',\n",
       " 'Requirement already satisfied: mdurl~=0.1 in d:\\\\anaconda\\\\envs\\\\drqn-env\\\\lib\\\\site-packages (from markdown-it-py>=2.2.0->rich>=10.11.0->typer<1.0,>=0.12->gradio) (0.1.2)',\n",
       " 'Requirement already satisfied: pyasn1<0.7.0,>=0.4.6 in d:\\\\anaconda\\\\envs\\\\drqn-env\\\\lib\\\\site-packages (from pyasn1-modules>=0.2.1->google-auth<3,>=1.6.3->tensorboard<2.11,>=2.10->tensorflow) (0.6.1)',\n",
       " 'Requirement already satisfied: oauthlib>=3.0.0 in d:\\\\anaconda\\\\envs\\\\drqn-env\\\\lib\\\\site-packages (from requests-oauthlib>=0.7.0->google-auth-oauthlib<0.5,>=0.4.1->tensorboard<2.11,>=2.10->tensorflow) (3.2.2)']"
      ]
     },
     "execution_count": 1,
     "metadata": {},
     "output_type": "execute_result"
    }
   ],
   "source": [
    "!!pip install gradio tensorflow numpy pandas"
   ]
  },
  {
   "cell_type": "code",
   "execution_count": 2,
   "id": "763e4de3-ab9a-486b-8f07-f6ac41a65ced",
   "metadata": {},
   "outputs": [
    {
     "name": "stderr",
     "output_type": "stream",
     "text": [
      "D:\\Anaconda\\envs\\drqn-env\\lib\\site-packages\\tqdm\\auto.py:21: TqdmWarning: IProgress not found. Please update jupyter and ipywidgets. See https://ipywidgets.readthedocs.io/en/stable/user_install.html\n",
      "  from .autonotebook import tqdm as notebook_tqdm\n"
     ]
    },
    {
     "name": "stdout",
     "output_type": "stream",
     "text": [
      "✅ GPU is enabled and memory growth set.\n"
     ]
    }
   ],
   "source": [
    "import gradio as gr\n",
    "import numpy as np\n",
    "import pandas as pd\n",
    "import tensorflow as tf\n",
    "from tensorflow.keras import layers\n",
    "import random\n",
    "\n",
    "# ✅ GPU configuration\n",
    "gpus = tf.config.experimental.list_physical_devices('GPU')\n",
    "if gpus:\n",
    "    try:\n",
    "        for gpu in gpus:\n",
    "            tf.config.experimental.set_memory_growth(gpu, True)\n",
    "        print(\"✅ GPU is enabled and memory growth set.\")\n",
    "    except RuntimeError as e:\n",
    "        print(f\"GPU setup error: {e}\")\n",
    "else:\n",
    "    print(\"❌ GPU not found. Using CPU.\")\n"
   ]
  },
  {
   "cell_type": "code",
   "execution_count": 3,
   "id": "f249ed7f-48b6-4c03-a61a-db2ac7f4ccb7",
   "metadata": {},
   "outputs": [],
   "source": [
    "\n",
    "\n",
    "categories = ['Politics', 'Tech', 'Sports', 'Entertainment', 'Health', 'Science', 'Finance', 'Lifestyle', 'Travel', 'Education']\n",
    "\n",
    "news_df = pd.DataFrame({\n",
    "    \"id\": list(range(50)),\n",
    "    \"title\": [\n",
    "        f\"{random.choice(['Breaking', 'Latest', 'Update'])}: {random.choice(['AI', 'Elections', 'Health', 'Stocks', 'Space', 'Movies', 'Football', 'Travel', 'Nutrition'])} News {i+1}\"\n",
    "        for i in range(50)\n",
    "    ],\n",
    "    \"category\": [random.choice(categories) for _ in range(50)]\n",
    "})\n",
    "\n",
    "# ✅ For tracking user interaction\n",
    "click_counts = [0] * len(news_df)\n",
    "\n"
   ]
  },
  {
   "cell_type": "code",
   "execution_count": 4,
   "id": "a62db270-6d61-43d7-8393-d6b71b8c1c1e",
   "metadata": {},
   "outputs": [],
   "source": [
    "# RL parameters\n",
    "state_size = len(news_df)  # current state = user interaction vector\n",
    "action_size = len(news_df)  # actions = articles to recommend\n",
    "\n",
    "# Build model\n",
    "def create_model():\n",
    "    model = tf.keras.Sequential([\n",
    "        layers.Dense(64, input_dim=state_size, activation='relu'),\n",
    "        layers.Dense(64, activation='relu'),\n",
    "        layers.Dense(action_size, activation='linear')\n",
    "    ])\n",
    "    model.compile(optimizer='adam', loss='mse')\n",
    "    return model\n",
    "\n",
    "# Initialize policy and target networks\n",
    "policy_model = create_model()\n",
    "target_model = create_model()\n",
    "target_model.set_weights(policy_model.get_weights())\n"
   ]
  },
  {
   "cell_type": "code",
   "execution_count": 5,
   "id": "ee46e6d2-e3ca-466d-aca6-6c3b199edce0",
   "metadata": {},
   "outputs": [],
   "source": [
    "# Experience Replay Buffer\n",
    "class ReplayBuffer:\n",
    "    def __init__(self, max_size=1000):\n",
    "        self.buffer = []\n",
    "        self.max_size = max_size\n",
    "\n",
    "    def add(self, s, a, r, s2, done):\n",
    "        if len(self.buffer) >= self.max_size:\n",
    "            self.buffer.pop(0)\n",
    "        self.buffer.append((s, a, r, s2, done))\n",
    "\n",
    "    def sample(self, batch_size):\n",
    "        return random.sample(self.buffer, min(len(self.buffer), batch_size))\n",
    "\n",
    "buffer = ReplayBuffer()\n",
    "\n",
    "def train(batch_size=32, gamma=0.99):\n",
    "    samples = buffer.sample(batch_size)\n",
    "    for state, action, reward, next_state, done in samples:\n",
    "        q_update = reward\n",
    "        if not done:\n",
    "            q_update += gamma * np.max(target_model.predict(np.array([next_state]))[0])\n",
    "        q_values = policy_model.predict(np.array([state]))[0]\n",
    "        q_values[action] = q_update\n",
    "        with tf.device('/GPU:0'):\n",
    "            policy_model.fit(np.array([state]), np.array([q_values]), epochs=1, verbose=0)\n"
   ]
  },
  {
   "cell_type": "code",
   "execution_count": 6,
   "id": "3c13ffb6-9d93-43c3-b83e-08ea5f07ec84",
   "metadata": {},
   "outputs": [],
   "source": [
    "user_state = np.zeros(state_size)\n",
    "\n",
    "def recommend(state=None):\n",
    "    if state is None:\n",
    "        state = user_state\n",
    "    q_values = policy_model.predict(np.array([state]))[0]\n",
    "    sorted_indices = np.argsort(q_values)[::-1]\n",
    "    top_5 = sorted_indices[:5]\n",
    "    button_texts = [f\"{news_df.iloc[i]['title']} ({news_df.iloc[i]['category']})\" for i in top_5]\n",
    "    return top_5, button_texts\n"
   ]
  },
  {
   "cell_type": "code",
   "execution_count": 7,
   "id": "2a9322d4-8ef0-4f95-802a-d621bffb5305",
   "metadata": {},
   "outputs": [],
   "source": [
    "def on_click(news_title, user_state):\n",
    "    idx = news_df[news_df['title'].str.contains(news_title.split(\" (\")[0])].index[0]\n",
    "    reward = 1\n",
    "    click_counts[idx] += 1\n",
    "\n",
    "    next_state = user_state.copy()\n",
    "    next_state[idx] = 1\n",
    "    buffer.add(user_state, idx, reward, next_state, False)\n",
    "\n",
    "    train()\n",
    "\n",
    "    _, new_titles = recommend(next_state)\n",
    "\n",
    "    return (\n",
    "        f\"You clicked: {news_title}\",\n",
    "        *[gr.update(value=news) for news in new_titles],\n",
    "        next_state\n",
    "    )\n"
   ]
  },
  {
   "cell_type": "code",
   "execution_count": 8,
   "id": "c2aa21da-85ba-4911-a3e7-0617505750ee",
   "metadata": {},
   "outputs": [
    {
     "name": "stdout",
     "output_type": "stream",
     "text": [
      "1/1 [==============================] - 3s 3s/step\n",
      "Running on local URL:  http://127.0.0.1:7860\n",
      "\n",
      "To create a public link, set `share=True` in `launch()`.\n"
     ]
    },
    {
     "data": {
      "text/html": [
       "<div><iframe src=\"http://127.0.0.1:7860/\" width=\"100%\" height=\"500\" allow=\"autoplay; camera; microphone; clipboard-read; clipboard-write;\" frameborder=\"0\" allowfullscreen></iframe></div>"
      ],
      "text/plain": [
       "<IPython.core.display.HTML object>"
      ]
     },
     "metadata": {},
     "output_type": "display_data"
    },
    {
     "data": {
      "text/plain": []
     },
     "execution_count": 8,
     "metadata": {},
     "output_type": "execute_result"
    },
    {
     "name": "stdout",
     "output_type": "stream",
     "text": [
      "1/1 [==============================] - 0s 88ms/step\n",
      "1/1 [==============================] - 0s 30ms/step\n",
      "1/1 [==============================] - 0s 25ms/step\n",
      "1/1 [==============================] - 0s 21ms/step\n",
      "1/1 [==============================] - 0s 27ms/step\n",
      "1/1 [==============================] - 0s 32ms/step\n",
      "1/1 [==============================] - 0s 34ms/step\n",
      "1/1 [==============================] - 0s 49ms/step\n"
     ]
    }
   ],
   "source": [
    "import gradio as gr\n",
    "\n",
    "with gr.Blocks() as demo:\n",
    "    state = gr.State(value=user_state)\n",
    "    output = gr.Textbox(label=\"Clicked Article Info\")\n",
    "\n",
    "    # 5 Fixed Buttons\n",
    "    btn1 = gr.Button()\n",
    "    btn2 = gr.Button()\n",
    "    btn3 = gr.Button()\n",
    "    btn4 = gr.Button()\n",
    "    btn5 = gr.Button()\n",
    "    buttons = [btn1, btn2, btn3, btn4, btn5]\n",
    "\n",
    "    # Initial recommendation titles\n",
    "    _, initial_titles = recommend()\n",
    "    for btn, title in zip(buttons, initial_titles):\n",
    "        btn.value = title\n",
    "\n",
    "    # Outputs: textbox + updated buttons + updated state\n",
    "    outputs = [output] + buttons + [state]\n",
    "\n",
    "    # Hook every button with click logic\n",
    "    for btn in buttons:\n",
    "        btn.click(on_click, inputs=[btn, state], outputs=outputs)\n",
    "\n",
    "demo.launch()\n"
   ]
  }
 ],
 "metadata": {
  "kernelspec": {
   "display_name": "Python 3 (ipykernel)",
   "language": "python",
   "name": "python3"
  },
  "language_info": {
   "codemirror_mode": {
    "name": "ipython",
    "version": 3
   },
   "file_extension": ".py",
   "mimetype": "text/x-python",
   "name": "python",
   "nbconvert_exporter": "python",
   "pygments_lexer": "ipython3",
   "version": "3.9.21"
  }
 },
 "nbformat": 4,
 "nbformat_minor": 5
}
